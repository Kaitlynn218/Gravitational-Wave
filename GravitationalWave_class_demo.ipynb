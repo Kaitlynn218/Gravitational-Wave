{
  "nbformat": 4,
  "nbformat_minor": 0,
  "metadata": {
    "colab": {
      "provenance": [],
      "authorship_tag": "ABX9TyM26TyrpohJ0vxNTgAO9a9+",
      "include_colab_link": true
    },
    "kernelspec": {
      "name": "python3",
      "display_name": "Python 3"
    },
    "language_info": {
      "name": "python"
    }
  },
  "cells": [
    {
      "cell_type": "markdown",
      "metadata": {
        "id": "view-in-github",
        "colab_type": "text"
      },
      "source": [
        "<a href=\"https://colab.research.google.com/github/Kaitlynn218/Gravitational-Wave/blob/main/GravitationalWave_class_demo.ipynb\" target=\"_parent\"><img src=\"https://colab.research.google.com/assets/colab-badge.svg\" alt=\"Open In Colab\"/></a>"
      ]
    },
    {
      "cell_type": "code",
      "source": [
        "import numpy as np\n",
        "import astropy.units as u\n",
        "import astropy.constants as ac"
      ],
      "metadata": {
        "id": "9_kdLa7fjUj8"
      },
      "execution_count": null,
      "outputs": []
    },
    {
      "cell_type": "markdown",
      "source": [
        "$R_bh = \\frac{2GM}{c^2}$"
      ],
      "metadata": {
        "id": "XZvhv7XSmdw5"
      }
    },
    {
      "cell_type": "code",
      "source": [
        "M_bh = 1 * u.solMass\n",
        "R_bh = 2 * ac.G * M_bh / ac.c**2\n",
        "print(\"The radius of a solar-mass black hole is\", R_bh.to(u.km))"
      ],
      "metadata": {
        "colab": {
          "base_uri": "https://localhost:8080/"
        },
        "id": "QfzUeXNtjYM6",
        "outputId": "ee77914a-df19-439a-e792-cceee579db70"
      },
      "execution_count": null,
      "outputs": [
        {
          "output_type": "stream",
          "name": "stdout",
          "text": [
            "The radius of a solar-mass black hole is 2.95325007610025 km\n"
          ]
        }
      ]
    },
    {
      "cell_type": "markdown",
      "source": [
        "$M= \\frac{\\delta t c^3}{16\\pi G}$"
      ],
      "metadata": {
        "id": "6oK9r0qdmtek"
      }
    },
    {
      "cell_type": "code",
      "source": [
        "delta_t = 0.01 * u.second\n",
        "M_bh_total = delta_t * ac.c**3 / (16 * np.pi * ac.G)\n",
        "print(\"The total mass of the two merging black holes is\", M_bh_total.to(u.solMass))"
      ],
      "metadata": {
        "colab": {
          "base_uri": "https://localhost:8080/"
        },
        "id": "3g785KCplsbr",
        "outputId": "ad0974f5-1e23-47d8-9644-30ad19bdd14b"
      },
      "execution_count": null,
      "outputs": [
        {
          "output_type": "stream",
          "name": "stdout",
          "text": [
            "The total mass of the two merging black holes is 40.390629275268466 solMass\n"
          ]
        }
      ]
    },
    {
      "cell_type": "code",
      "source": [
        "h = 1e-21\n",
        "delta_Earth = 1 * u.earthRad * h\n",
        "print(\"deformation of Earth is\", delta_Earth.to(u.m))"
      ],
      "metadata": {
        "colab": {
          "base_uri": "https://localhost:8080/"
        },
        "id": "7ajpYbxOn8OV",
        "outputId": "f83640ca-8a60-4093-8e51-e2cee0523fe7"
      },
      "execution_count": null,
      "outputs": [
        {
          "output_type": "stream",
          "name": "stdout",
          "text": [
            "deformation of Earth is 6.378099999999999e-15 m\n"
          ]
        }
      ]
    },
    {
      "cell_type": "markdown",
      "source": [
        "h = R_bh / distance, so distance = R_bh / h"
      ],
      "metadata": {
        "id": "Ca_CK6ZnpK3u"
      }
    },
    {
      "cell_type": "code",
      "source": [
        "R_bh = 2 * ac.G * 30 * u.solMass / (ac.c**2)\n",
        "D = R_bh / h\n",
        "print(\"distance of the black merger is\", D.to(1e6 * u.parsec))"
      ],
      "metadata": {
        "colab": {
          "base_uri": "https://localhost:8080/"
        },
        "id": "RJM5WjYgpTGm",
        "outputId": "c9c8d968-102a-4695-af18-e3ea45261408"
      },
      "execution_count": null,
      "outputs": [
        {
          "output_type": "stream",
          "name": "stdout",
          "text": [
            "distance of the black merger is 2871.249504952705 1e+06 pc\n"
          ]
        }
      ]
    }
  ]
}